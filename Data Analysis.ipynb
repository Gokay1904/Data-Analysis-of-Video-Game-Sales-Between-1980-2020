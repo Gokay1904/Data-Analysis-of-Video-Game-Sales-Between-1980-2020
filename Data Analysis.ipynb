{
 "cells": [
  {
   "cell_type": "markdown",
   "id": "765db7a8",
   "metadata": {},
   "source": [
    "### IMPORT LIBRARIES ###"
   ]
  },
  {
   "cell_type": "code",
   "execution_count": 742,
   "id": "cb299b25",
   "metadata": {},
   "outputs": [],
   "source": [
    "from scipy.interpolate import interp1d,make_interp_spline, BSpline\n",
    "from sklearn.linear_model import LinearRegression\n",
    "from sklearn.preprocessing import PolynomialFeatures\n",
    "from IPython.display import clear_output\n",
    "from scipy.interpolate import interp1d\n",
    "from sklearn import metrics\n",
    "import numpy as np\n",
    "import matplotlib.pyplot as plt\n",
    "import pandas as pd\n",
    "import seaborn as sns"
   ]
  },
  {
   "cell_type": "markdown",
   "id": "013f46be",
   "metadata": {},
   "source": [
    "### CONVERT CSV TO PANDAS DATAFRAME ###"
   ]
  },
  {
   "cell_type": "code",
   "execution_count": 743,
   "id": "69eaaf7a",
   "metadata": {},
   "outputs": [],
   "source": [
    "df = pd.read_csv('vgsales.csv')"
   ]
  },
  {
   "cell_type": "code",
   "execution_count": 744,
   "id": "1f6a22c9",
   "metadata": {},
   "outputs": [
    {
     "data": {
      "text/html": [
       "<div>\n",
       "<style scoped>\n",
       "    .dataframe tbody tr th:only-of-type {\n",
       "        vertical-align: middle;\n",
       "    }\n",
       "\n",
       "    .dataframe tbody tr th {\n",
       "        vertical-align: top;\n",
       "    }\n",
       "\n",
       "    .dataframe thead th {\n",
       "        text-align: right;\n",
       "    }\n",
       "</style>\n",
       "<table border=\"1\" class=\"dataframe\">\n",
       "  <thead>\n",
       "    <tr style=\"text-align: right;\">\n",
       "      <th></th>\n",
       "      <th>Rank</th>\n",
       "      <th>Name</th>\n",
       "      <th>Platform</th>\n",
       "      <th>Year</th>\n",
       "      <th>Genre</th>\n",
       "      <th>Publisher</th>\n",
       "      <th>NA_Sales</th>\n",
       "      <th>EU_Sales</th>\n",
       "      <th>JP_Sales</th>\n",
       "      <th>Other_Sales</th>\n",
       "      <th>Global_Sales</th>\n",
       "    </tr>\n",
       "  </thead>\n",
       "  <tbody>\n",
       "    <tr>\n",
       "      <th>0</th>\n",
       "      <td>1</td>\n",
       "      <td>Wii Sports</td>\n",
       "      <td>Wii</td>\n",
       "      <td>2006.0</td>\n",
       "      <td>Sports</td>\n",
       "      <td>Nintendo</td>\n",
       "      <td>41.49</td>\n",
       "      <td>29.02</td>\n",
       "      <td>3.77</td>\n",
       "      <td>8.46</td>\n",
       "      <td>82.74</td>\n",
       "    </tr>\n",
       "    <tr>\n",
       "      <th>1</th>\n",
       "      <td>2</td>\n",
       "      <td>Super Mario Bros.</td>\n",
       "      <td>NES</td>\n",
       "      <td>1985.0</td>\n",
       "      <td>Platform</td>\n",
       "      <td>Nintendo</td>\n",
       "      <td>29.08</td>\n",
       "      <td>3.58</td>\n",
       "      <td>6.81</td>\n",
       "      <td>0.77</td>\n",
       "      <td>40.24</td>\n",
       "    </tr>\n",
       "    <tr>\n",
       "      <th>2</th>\n",
       "      <td>3</td>\n",
       "      <td>Mario Kart Wii</td>\n",
       "      <td>Wii</td>\n",
       "      <td>2008.0</td>\n",
       "      <td>Racing</td>\n",
       "      <td>Nintendo</td>\n",
       "      <td>15.85</td>\n",
       "      <td>12.88</td>\n",
       "      <td>3.79</td>\n",
       "      <td>3.31</td>\n",
       "      <td>35.82</td>\n",
       "    </tr>\n",
       "    <tr>\n",
       "      <th>3</th>\n",
       "      <td>4</td>\n",
       "      <td>Wii Sports Resort</td>\n",
       "      <td>Wii</td>\n",
       "      <td>2009.0</td>\n",
       "      <td>Sports</td>\n",
       "      <td>Nintendo</td>\n",
       "      <td>15.75</td>\n",
       "      <td>11.01</td>\n",
       "      <td>3.28</td>\n",
       "      <td>2.96</td>\n",
       "      <td>33.00</td>\n",
       "    </tr>\n",
       "    <tr>\n",
       "      <th>4</th>\n",
       "      <td>5</td>\n",
       "      <td>Pokemon Red/Pokemon Blue</td>\n",
       "      <td>GB</td>\n",
       "      <td>1996.0</td>\n",
       "      <td>Role-Playing</td>\n",
       "      <td>Nintendo</td>\n",
       "      <td>11.27</td>\n",
       "      <td>8.89</td>\n",
       "      <td>10.22</td>\n",
       "      <td>1.00</td>\n",
       "      <td>31.37</td>\n",
       "    </tr>\n",
       "  </tbody>\n",
       "</table>\n",
       "</div>"
      ],
      "text/plain": [
       "   Rank                      Name Platform    Year         Genre Publisher  \\\n",
       "0     1                Wii Sports      Wii  2006.0        Sports  Nintendo   \n",
       "1     2         Super Mario Bros.      NES  1985.0      Platform  Nintendo   \n",
       "2     3            Mario Kart Wii      Wii  2008.0        Racing  Nintendo   \n",
       "3     4         Wii Sports Resort      Wii  2009.0        Sports  Nintendo   \n",
       "4     5  Pokemon Red/Pokemon Blue       GB  1996.0  Role-Playing  Nintendo   \n",
       "\n",
       "   NA_Sales  EU_Sales  JP_Sales  Other_Sales  Global_Sales  \n",
       "0     41.49     29.02      3.77         8.46         82.74  \n",
       "1     29.08      3.58      6.81         0.77         40.24  \n",
       "2     15.85     12.88      3.79         3.31         35.82  \n",
       "3     15.75     11.01      3.28         2.96         33.00  \n",
       "4     11.27      8.89     10.22         1.00         31.37  "
      ]
     },
     "execution_count": 744,
     "metadata": {},
     "output_type": "execute_result"
    }
   ],
   "source": [
    "#Raw dataset \n",
    "df.head()"
   ]
  },
  {
   "cell_type": "markdown",
   "id": "f62add01",
   "metadata": {},
   "source": [
    "### DATA ANALYSIS  PART ###\n",
    "***"
   ]
  },
  {
   "cell_type": "markdown",
   "id": "f6ac51ef",
   "metadata": {},
   "source": [
    "#### Quick Notes ####\n",
    "- Valid years\n",
    "- Genres\n",
    "- Publishers"
   ]
  },
  {
   "cell_type": "code",
   "execution_count": 745,
   "id": "8cee5e10",
   "metadata": {
    "scrolled": true
   },
   "outputs": [
    {
     "data": {
      "text/plain": [
       "(1980, 2020)"
      ]
     },
     "execution_count": 745,
     "metadata": {},
     "output_type": "execute_result"
    }
   ],
   "source": [
    "int(df[\"Year\"].min()),int(df[\"Year\"].max())"
   ]
  },
  {
   "cell_type": "markdown",
   "id": "2f624001",
   "metadata": {},
   "source": [
    "The data is valid between years 1980-2020"
   ]
  },
  {
   "cell_type": "code",
   "execution_count": 746,
   "id": "0bbeee3f",
   "metadata": {
    "scrolled": true
   },
   "outputs": [
    {
     "data": {
      "text/plain": [
       "0           Sports\n",
       "1         Platform\n",
       "2           Racing\n",
       "3     Role-Playing\n",
       "4           Puzzle\n",
       "5             Misc\n",
       "6          Shooter\n",
       "7       Simulation\n",
       "8           Action\n",
       "9         Fighting\n",
       "10       Adventure\n",
       "11        Strategy\n",
       "Name: Genre, dtype: object"
      ]
     },
     "execution_count": 746,
     "metadata": {},
     "output_type": "execute_result"
    }
   ],
   "source": [
    "(df[\"Genre\"].drop_duplicates().reset_index(drop = True))"
   ]
  },
  {
   "cell_type": "markdown",
   "id": "d0b9ed5d",
   "metadata": {},
   "source": [
    "The data contains 12 game genres"
   ]
  },
  {
   "cell_type": "code",
   "execution_count": 747,
   "id": "7c22c6a9",
   "metadata": {
    "scrolled": false
   },
   "outputs": [
    {
     "data": {
      "text/plain": [
       "0                         Nintendo\n",
       "1           Microsoft Game Studios\n",
       "2             Take-Two Interactive\n",
       "3      Sony Computer Entertainment\n",
       "4                       Activision\n",
       "                  ...             \n",
       "574                   Inti Creates\n",
       "575                         Takuyo\n",
       "576             Interchannel-Holon\n",
       "577                     Rain Games\n",
       "578              UIG Entertainment\n",
       "Name: Publisher, Length: 579, dtype: object"
      ]
     },
     "execution_count": 747,
     "metadata": {},
     "output_type": "execute_result"
    }
   ],
   "source": [
    "df[\"Publisher\"].drop_duplicates().reset_index(drop=True)"
   ]
  },
  {
   "cell_type": "markdown",
   "id": "d506170a",
   "metadata": {},
   "source": [
    "There are 579 different publishers in the dataset"
   ]
  },
  {
   "cell_type": "markdown",
   "id": "7a0d3e26",
   "metadata": {},
   "source": [
    "### Total Regional Sales and Distribution ###\n",
    "Now take general look on the distribution of game sales by regions"
   ]
  },
  {
   "cell_type": "code",
   "execution_count": 748,
   "id": "7346ddd6",
   "metadata": {},
   "outputs": [
    {
     "data": {
      "image/png": "[encoded data removed]",
      "text/plain": [
       "<Figure size 576x396 with 1 Axes>"
      ]
     },
     "metadata": {},
     "output_type": "display_data"
    }
   ],
   "source": [
    "continental_sales = df[[\"NA_Sales\",\"EU_Sales\",\"JP_Sales\",\"Other_Sales\"]]\n",
    "plt.pie(continental_sales.sum(), colors = sns.color_palette('pastel')[0:4], \n",
    "        labels = continental_sales.columns,startangle=90,autopct='%1.2f%%')\n",
    "\n",
    "#For displaying only the graphs, not code outputs\n",
    "clear_output(wait=True)"
   ]
  },
  {
   "cell_type": "markdown",
   "id": "f84944b1",
   "metadata": {},
   "source": [
    "### Regional Sales of Each Publishers ###\n",
    "This is how many publisher exists in our data."
   ]
  },
  {
   "cell_type": "code",
   "execution_count": 749,
   "id": "0c16b715",
   "metadata": {},
   "outputs": [],
   "source": [
    "publishers_and_sales = pd.DataFrame(data = {\"Publishers\":df[\"Publisher\"].drop_duplicates().reset_index(drop=True),\n",
    "                                          \"EU_Sales\":np.zeros(579),\"NA_Sales\":np.zeros(579),\"JP_Sales\":np.zeros(579),\n",
    "                                          \"Other_Sales\":np.zeros(579),\n",
    "                                          \"Total_Sales\":np.zeros(579)})\n",
    "def sumSales(arr):\n",
    "    return np.sum(arr)\n",
    "\n",
    "for index, rows in publishers_and_sales.iterrows():\n",
    "\n",
    "    if rows[\"Publishers\"] in df[\"Publisher\"].values:\n",
    "        publishers_and_sales.iloc[index,[1,2,3,4,5]] = df[df.Publisher == rows.Publishers][[\"EU_Sales\",\"NA_Sales\",\"JP_Sales\",\"Other_Sales\",\"Global_Sales\"]].apply(sumSales,result_type = \"expand\")  "
   ]
  },
  {
   "cell_type": "markdown",
   "id": "63733a01",
   "metadata": {},
   "source": [
    "#### Most Sold 20 Companies ####"
   ]
  },
  {
   "cell_type": "code",
   "execution_count": 750,
   "id": "17421df3",
   "metadata": {},
   "outputs": [
    {
     "data": {
      "text/html": [
       "<div>\n",
       "<style scoped>\n",
       "    .dataframe tbody tr th:only-of-type {\n",
       "        vertical-align: middle;\n",
       "    }\n",
       "\n",
       "    .dataframe tbody tr th {\n",
       "        vertical-align: top;\n",
       "    }\n",
       "\n",
       "    .dataframe thead th {\n",
       "        text-align: right;\n",
       "    }\n",
       "</style>\n",
       "<table border=\"1\" class=\"dataframe\">\n",
       "  <thead>\n",
       "    <tr style=\"text-align: right;\">\n",
       "      <th></th>\n",
       "      <th>Publishers</th>\n",
       "      <th>EU_Sales</th>\n",
       "      <th>NA_Sales</th>\n",
       "      <th>JP_Sales</th>\n",
       "      <th>Other_Sales</th>\n",
       "      <th>Total_Sales</th>\n",
       "    </tr>\n",
       "  </thead>\n",
       "  <tbody>\n",
       "    <tr>\n",
       "      <th>0</th>\n",
       "      <td>Nintendo</td>\n",
       "      <td>418.74</td>\n",
       "      <td>816.87</td>\n",
       "      <td>455.42</td>\n",
       "      <td>95.33</td>\n",
       "      <td>1786.56</td>\n",
       "    </tr>\n",
       "    <tr>\n",
       "      <th>1</th>\n",
       "      <td>Electronic Arts</td>\n",
       "      <td>371.27</td>\n",
       "      <td>595.07</td>\n",
       "      <td>14.04</td>\n",
       "      <td>129.77</td>\n",
       "      <td>1110.32</td>\n",
       "    </tr>\n",
       "    <tr>\n",
       "      <th>2</th>\n",
       "      <td>Activision</td>\n",
       "      <td>215.53</td>\n",
       "      <td>429.70</td>\n",
       "      <td>6.54</td>\n",
       "      <td>75.34</td>\n",
       "      <td>727.46</td>\n",
       "    </tr>\n",
       "    <tr>\n",
       "      <th>3</th>\n",
       "      <td>Sony Computer Entertainment</td>\n",
       "      <td>187.72</td>\n",
       "      <td>265.22</td>\n",
       "      <td>74.10</td>\n",
       "      <td>80.45</td>\n",
       "      <td>607.50</td>\n",
       "    </tr>\n",
       "    <tr>\n",
       "      <th>4</th>\n",
       "      <td>Ubisoft</td>\n",
       "      <td>163.32</td>\n",
       "      <td>253.43</td>\n",
       "      <td>7.50</td>\n",
       "      <td>50.26</td>\n",
       "      <td>474.72</td>\n",
       "    </tr>\n",
       "    <tr>\n",
       "      <th>5</th>\n",
       "      <td>Take-Two Interactive</td>\n",
       "      <td>118.14</td>\n",
       "      <td>220.49</td>\n",
       "      <td>5.83</td>\n",
       "      <td>55.24</td>\n",
       "      <td>399.54</td>\n",
       "    </tr>\n",
       "    <tr>\n",
       "      <th>6</th>\n",
       "      <td>THQ</td>\n",
       "      <td>94.73</td>\n",
       "      <td>208.77</td>\n",
       "      <td>5.01</td>\n",
       "      <td>32.14</td>\n",
       "      <td>340.77</td>\n",
       "    </tr>\n",
       "    <tr>\n",
       "      <th>7</th>\n",
       "      <td>Konami Digital Entertainment</td>\n",
       "      <td>69.69</td>\n",
       "      <td>92.16</td>\n",
       "      <td>91.30</td>\n",
       "      <td>30.31</td>\n",
       "      <td>283.64</td>\n",
       "    </tr>\n",
       "    <tr>\n",
       "      <th>8</th>\n",
       "      <td>Sega</td>\n",
       "      <td>82.00</td>\n",
       "      <td>109.40</td>\n",
       "      <td>57.03</td>\n",
       "      <td>24.52</td>\n",
       "      <td>272.99</td>\n",
       "    </tr>\n",
       "    <tr>\n",
       "      <th>9</th>\n",
       "      <td>Namco Bandai Games</td>\n",
       "      <td>42.63</td>\n",
       "      <td>69.52</td>\n",
       "      <td>127.07</td>\n",
       "      <td>14.69</td>\n",
       "      <td>254.09</td>\n",
       "    </tr>\n",
       "    <tr>\n",
       "      <th>10</th>\n",
       "      <td>Microsoft Game Studios</td>\n",
       "      <td>68.61</td>\n",
       "      <td>155.35</td>\n",
       "      <td>3.26</td>\n",
       "      <td>18.56</td>\n",
       "      <td>245.79</td>\n",
       "    </tr>\n",
       "    <tr>\n",
       "      <th>11</th>\n",
       "      <td>Capcom</td>\n",
       "      <td>39.22</td>\n",
       "      <td>78.59</td>\n",
       "      <td>68.08</td>\n",
       "      <td>14.84</td>\n",
       "      <td>200.89</td>\n",
       "    </tr>\n",
       "    <tr>\n",
       "      <th>12</th>\n",
       "      <td>Atari</td>\n",
       "      <td>27.12</td>\n",
       "      <td>110.04</td>\n",
       "      <td>10.71</td>\n",
       "      <td>9.01</td>\n",
       "      <td>157.22</td>\n",
       "    </tr>\n",
       "    <tr>\n",
       "      <th>13</th>\n",
       "      <td>Warner Bros. Interactive Entertainment</td>\n",
       "      <td>53.12</td>\n",
       "      <td>81.18</td>\n",
       "      <td>1.04</td>\n",
       "      <td>18.56</td>\n",
       "      <td>153.89</td>\n",
       "    </tr>\n",
       "    <tr>\n",
       "      <th>14</th>\n",
       "      <td>Square Enix</td>\n",
       "      <td>32.82</td>\n",
       "      <td>48.65</td>\n",
       "      <td>49.88</td>\n",
       "      <td>13.89</td>\n",
       "      <td>145.18</td>\n",
       "    </tr>\n",
       "    <tr>\n",
       "      <th>15</th>\n",
       "      <td>Disney Interactive Studios</td>\n",
       "      <td>34.64</td>\n",
       "      <td>71.34</td>\n",
       "      <td>0.56</td>\n",
       "      <td>13.18</td>\n",
       "      <td>119.96</td>\n",
       "    </tr>\n",
       "    <tr>\n",
       "      <th>16</th>\n",
       "      <td>Eidos Interactive</td>\n",
       "      <td>35.63</td>\n",
       "      <td>49.19</td>\n",
       "      <td>6.11</td>\n",
       "      <td>8.02</td>\n",
       "      <td>98.98</td>\n",
       "    </tr>\n",
       "    <tr>\n",
       "      <th>17</th>\n",
       "      <td>LucasArts</td>\n",
       "      <td>26.63</td>\n",
       "      <td>49.97</td>\n",
       "      <td>0.20</td>\n",
       "      <td>10.50</td>\n",
       "      <td>87.34</td>\n",
       "    </tr>\n",
       "    <tr>\n",
       "      <th>18</th>\n",
       "      <td>Bethesda Softworks</td>\n",
       "      <td>30.73</td>\n",
       "      <td>39.72</td>\n",
       "      <td>1.45</td>\n",
       "      <td>10.16</td>\n",
       "      <td>82.14</td>\n",
       "    </tr>\n",
       "    <tr>\n",
       "      <th>19</th>\n",
       "      <td>Midway Games</td>\n",
       "      <td>18.38</td>\n",
       "      <td>45.46</td>\n",
       "      <td>0.12</td>\n",
       "      <td>5.74</td>\n",
       "      <td>69.85</td>\n",
       "    </tr>\n",
       "  </tbody>\n",
       "</table>\n",
       "</div>"
      ],
      "text/plain": [
       "                                Publishers  EU_Sales  NA_Sales  JP_Sales  \\\n",
       "0                                 Nintendo    418.74    816.87    455.42   \n",
       "1                          Electronic Arts    371.27    595.07     14.04   \n",
       "2                               Activision    215.53    429.70      6.54   \n",
       "3              Sony Computer Entertainment    187.72    265.22     74.10   \n",
       "4                                  Ubisoft    163.32    253.43      7.50   \n",
       "5                     Take-Two Interactive    118.14    220.49      5.83   \n",
       "6                                      THQ     94.73    208.77      5.01   \n",
       "7             Konami Digital Entertainment     69.69     92.16     91.30   \n",
       "8                                     Sega     82.00    109.40     57.03   \n",
       "9                       Namco Bandai Games     42.63     69.52    127.07   \n",
       "10                  Microsoft Game Studios     68.61    155.35      3.26   \n",
       "11                                  Capcom     39.22     78.59     68.08   \n",
       "12                                   Atari     27.12    110.04     10.71   \n",
       "13  Warner Bros. Interactive Entertainment     53.12     81.18      1.04   \n",
       "14                             Square Enix     32.82     48.65     49.88   \n",
       "15              Disney Interactive Studios     34.64     71.34      0.56   \n",
       "16                       Eidos Interactive     35.63     49.19      6.11   \n",
       "17                               LucasArts     26.63     49.97      0.20   \n",
       "18                      Bethesda Softworks     30.73     39.72      1.45   \n",
       "19                            Midway Games     18.38     45.46      0.12   \n",
       "\n",
       "    Other_Sales  Total_Sales  \n",
       "0         95.33      1786.56  \n",
       "1        129.77      1110.32  \n",
       "2         75.34       727.46  \n",
       "3         80.45       607.50  \n",
       "4         50.26       474.72  \n",
       "5         55.24       399.54  \n",
       "6         32.14       340.77  \n",
       "7         30.31       283.64  \n",
       "8         24.52       272.99  \n",
       "9         14.69       254.09  \n",
       "10        18.56       245.79  \n",
       "11        14.84       200.89  \n",
       "12         9.01       157.22  \n",
       "13        18.56       153.89  \n",
       "14        13.89       145.18  \n",
       "15        13.18       119.96  \n",
       "16         8.02        98.98  \n",
       "17        10.50        87.34  \n",
       "18        10.16        82.14  \n",
       "19         5.74        69.85  "
      ]
     },
     "execution_count": 750,
     "metadata": {},
     "output_type": "execute_result"
    }
   ],
   "source": [
    "Top_Publishers = publishers_and_sales.sort_values([\"Total_Sales\"],ascending = False).head(20).reset_index(drop=True)\n",
    "Top_Publishers"
   ]
  },
  {
   "cell_type": "code",
   "execution_count": 751,
   "id": "8d8ba61a",
   "metadata": {},
   "outputs": [
    {
     "data": {
      "image/png": "[encoded data removed]",
      "text/plain": [
       "<Figure size 864x360 with 1 Axes>"
      ]
     },
     "metadata": {},
     "output_type": "display_data"
    }
   ],
   "source": [
    "plt.figure(figsize = (12,5))\n",
    "\n",
    "sns.barplot(x = Top_Publishers[\"Publishers\"], \n",
    "        y = Top_Publishers[\"Total_Sales\"])\n",
    "\n",
    "plt.title(\"Top 20 Prominent Companies by Video Game Sales\",fontsize = 30)\n",
    "\n",
    "plt.xlabel(\"Companies\",fontsize = 18)\n",
    "plt.ylabel(\"Sales (M)\",fontsize = 18)\n",
    "\n",
    "plt.tick_params(axis='x', labelsize=15)\n",
    "plt.tick_params(axis='y', labelsize=15)\n",
    "\n",
    "plt.xticks(rotation = 90)\n",
    "\n",
    "plt.style.use(\"seaborn-dark\")"
   ]
  },
  {
   "cell_type": "markdown",
   "id": "f1f5577e",
   "metadata": {},
   "source": [
    "As shown in the figure, Nintendo has made roughly $1.75 billion profits from game sales over the last 40 years."
   ]
  },
  {
   "cell_type": "markdown",
   "id": "b488a5e0",
   "metadata": {},
   "source": [
    "#### Progress of Nintendo year by year ####"
   ]
  },
  {
   "cell_type": "code",
   "execution_count": 752,
   "id": "392579f4",
   "metadata": {},
   "outputs": [
    {
     "name": "stdout",
     "output_type": "stream",
     "text": [
      "Earliest game: \n",
      "Year               1983.0\n",
      "Name    100 Classic Books\n",
      "dtype: object \n",
      "\n",
      "Latest game: \n",
      "Year                      2016.0\n",
      "Name    Zero: Tsukihami no Kamen\n",
      "dtype: object\n"
     ]
    }
   ],
   "source": [
    "print(f\"Earliest game: \\n{df[df.Publisher == 'Nintendo'].sort_values('Year', ascending = True).min()[['Year','Name']]} \\n\")\n",
    "print(f\"Latest game: \\n{df[df.Publisher == 'Nintendo'].sort_values('Year', ascending = True).max()[['Year','Name']]}\")"
   ]
  },
  {
   "cell_type": "markdown",
   "id": "689c8296",
   "metadata": {},
   "source": [
    "- The history of the Nintendo company as far as we know dates back to 1983. Also, 100 Classic Books is the first product which has been published.\n",
    "\n",
    "- Zero: Tsukihami no Kamen is the latest game published in 2016."
   ]
  },
  {
   "cell_type": "code",
   "execution_count": 753,
   "id": "e497f24a",
   "metadata": {
    "scrolled": false
   },
   "outputs": [
    {
     "data": {
      "text/html": [
       "<div>\n",
       "<style scoped>\n",
       "    .dataframe tbody tr th:only-of-type {\n",
       "        vertical-align: middle;\n",
       "    }\n",
       "\n",
       "    .dataframe tbody tr th {\n",
       "        vertical-align: top;\n",
       "    }\n",
       "\n",
       "    .dataframe thead th {\n",
       "        text-align: right;\n",
       "    }\n",
       "</style>\n",
       "<table border=\"1\" class=\"dataframe\">\n",
       "  <thead>\n",
       "    <tr style=\"text-align: right;\">\n",
       "      <th></th>\n",
       "      <th>Rank</th>\n",
       "      <th>Name</th>\n",
       "      <th>Platform</th>\n",
       "      <th>Year</th>\n",
       "      <th>Genre</th>\n",
       "      <th>Publisher</th>\n",
       "      <th>NA_Sales</th>\n",
       "      <th>EU_Sales</th>\n",
       "      <th>JP_Sales</th>\n",
       "      <th>Other_Sales</th>\n",
       "      <th>Global_Sales</th>\n",
       "    </tr>\n",
       "  </thead>\n",
       "  <tbody>\n",
       "    <tr>\n",
       "      <th>1839</th>\n",
       "      <td>1841</td>\n",
       "      <td>Donkey Kong Jr.</td>\n",
       "      <td>NES</td>\n",
       "      <td>1983.0</td>\n",
       "      <td>Platform</td>\n",
       "      <td>Nintendo</td>\n",
       "      <td>0.33</td>\n",
       "      <td>0.07</td>\n",
       "      <td>0.70</td>\n",
       "      <td>0.01</td>\n",
       "      <td>1.11</td>\n",
       "    </tr>\n",
       "    <tr>\n",
       "      <th>763</th>\n",
       "      <td>765</td>\n",
       "      <td>Mahjong</td>\n",
       "      <td>NES</td>\n",
       "      <td>1983.0</td>\n",
       "      <td>Misc</td>\n",
       "      <td>Nintendo</td>\n",
       "      <td>0.01</td>\n",
       "      <td>0.00</td>\n",
       "      <td>2.13</td>\n",
       "      <td>0.00</td>\n",
       "      <td>2.14</td>\n",
       "    </tr>\n",
       "    <tr>\n",
       "      <th>421</th>\n",
       "      <td>422</td>\n",
       "      <td>Baseball</td>\n",
       "      <td>NES</td>\n",
       "      <td>1983.0</td>\n",
       "      <td>Sports</td>\n",
       "      <td>Nintendo</td>\n",
       "      <td>0.73</td>\n",
       "      <td>0.10</td>\n",
       "      <td>2.35</td>\n",
       "      <td>0.02</td>\n",
       "      <td>3.20</td>\n",
       "    </tr>\n",
       "    <tr>\n",
       "      <th>700</th>\n",
       "      <td>702</td>\n",
       "      <td>Mario Bros.</td>\n",
       "      <td>NES</td>\n",
       "      <td>1983.0</td>\n",
       "      <td>Platform</td>\n",
       "      <td>Nintendo</td>\n",
       "      <td>0.51</td>\n",
       "      <td>0.12</td>\n",
       "      <td>1.63</td>\n",
       "      <td>0.02</td>\n",
       "      <td>2.28</td>\n",
       "    </tr>\n",
       "    <tr>\n",
       "      <th>1861</th>\n",
       "      <td>1863</td>\n",
       "      <td>Popeye</td>\n",
       "      <td>NES</td>\n",
       "      <td>1983.0</td>\n",
       "      <td>Platform</td>\n",
       "      <td>Nintendo</td>\n",
       "      <td>0.51</td>\n",
       "      <td>0.12</td>\n",
       "      <td>0.45</td>\n",
       "      <td>0.02</td>\n",
       "      <td>1.10</td>\n",
       "    </tr>\n",
       "    <tr>\n",
       "      <th>...</th>\n",
       "      <td>...</td>\n",
       "      <td>...</td>\n",
       "      <td>...</td>\n",
       "      <td>...</td>\n",
       "      <td>...</td>\n",
       "      <td>...</td>\n",
       "      <td>...</td>\n",
       "      <td>...</td>\n",
       "      <td>...</td>\n",
       "      <td>...</td>\n",
       "      <td>...</td>\n",
       "    </tr>\n",
       "    <tr>\n",
       "      <th>5508</th>\n",
       "      <td>5510</td>\n",
       "      <td>Custom Robo</td>\n",
       "      <td>N64</td>\n",
       "      <td>NaN</td>\n",
       "      <td>Role-Playing</td>\n",
       "      <td>Nintendo</td>\n",
       "      <td>0.00</td>\n",
       "      <td>0.00</td>\n",
       "      <td>0.29</td>\n",
       "      <td>0.04</td>\n",
       "      <td>0.33</td>\n",
       "    </tr>\n",
       "    <tr>\n",
       "      <th>11409</th>\n",
       "      <td>11411</td>\n",
       "      <td>Zero: Tsukihami no Kamen</td>\n",
       "      <td>Wii</td>\n",
       "      <td>NaN</td>\n",
       "      <td>Action</td>\n",
       "      <td>Nintendo</td>\n",
       "      <td>0.00</td>\n",
       "      <td>0.00</td>\n",
       "      <td>0.08</td>\n",
       "      <td>0.00</td>\n",
       "      <td>0.08</td>\n",
       "    </tr>\n",
       "    <tr>\n",
       "      <th>14997</th>\n",
       "      <td>15000</td>\n",
       "      <td>Wii de Asobu: Metroid Prime</td>\n",
       "      <td>Wii</td>\n",
       "      <td>NaN</td>\n",
       "      <td>Shooter</td>\n",
       "      <td>Nintendo</td>\n",
       "      <td>0.00</td>\n",
       "      <td>0.00</td>\n",
       "      <td>0.02</td>\n",
       "      <td>0.00</td>\n",
       "      <td>0.02</td>\n",
       "    </tr>\n",
       "    <tr>\n",
       "      <th>14999</th>\n",
       "      <td>15002</td>\n",
       "      <td>Wii de Asobu: Metroid Prime</td>\n",
       "      <td>Wii</td>\n",
       "      <td>NaN</td>\n",
       "      <td>Shooter</td>\n",
       "      <td>Nintendo</td>\n",
       "      <td>0.00</td>\n",
       "      <td>0.00</td>\n",
       "      <td>0.02</td>\n",
       "      <td>0.00</td>\n",
       "      <td>0.02</td>\n",
       "    </tr>\n",
       "    <tr>\n",
       "      <th>15900</th>\n",
       "      <td>15903</td>\n",
       "      <td>Jet Impulse</td>\n",
       "      <td>DS</td>\n",
       "      <td>NaN</td>\n",
       "      <td>Simulation</td>\n",
       "      <td>Nintendo</td>\n",
       "      <td>0.00</td>\n",
       "      <td>0.00</td>\n",
       "      <td>0.02</td>\n",
       "      <td>0.00</td>\n",
       "      <td>0.02</td>\n",
       "    </tr>\n",
       "  </tbody>\n",
       "</table>\n",
       "<p>703 rows × 11 columns</p>\n",
       "</div>"
      ],
      "text/plain": [
       "        Rank                         Name Platform    Year         Genre  \\\n",
       "1839    1841              Donkey Kong Jr.      NES  1983.0      Platform   \n",
       "763      765                      Mahjong      NES  1983.0          Misc   \n",
       "421      422                     Baseball      NES  1983.0        Sports   \n",
       "700      702                  Mario Bros.      NES  1983.0      Platform   \n",
       "1861    1863                       Popeye      NES  1983.0      Platform   \n",
       "...      ...                          ...      ...     ...           ...   \n",
       "5508    5510                  Custom Robo      N64     NaN  Role-Playing   \n",
       "11409  11411     Zero: Tsukihami no Kamen      Wii     NaN        Action   \n",
       "14997  15000  Wii de Asobu: Metroid Prime      Wii     NaN       Shooter   \n",
       "14999  15002  Wii de Asobu: Metroid Prime      Wii     NaN       Shooter   \n",
       "15900  15903                  Jet Impulse       DS     NaN    Simulation   \n",
       "\n",
       "      Publisher  NA_Sales  EU_Sales  JP_Sales  Other_Sales  Global_Sales  \n",
       "1839   Nintendo      0.33      0.07      0.70         0.01          1.11  \n",
       "763    Nintendo      0.01      0.00      2.13         0.00          2.14  \n",
       "421    Nintendo      0.73      0.10      2.35         0.02          3.20  \n",
       "700    Nintendo      0.51      0.12      1.63         0.02          2.28  \n",
       "1861   Nintendo      0.51      0.12      0.45         0.02          1.10  \n",
       "...         ...       ...       ...       ...          ...           ...  \n",
       "5508   Nintendo      0.00      0.00      0.29         0.04          0.33  \n",
       "11409  Nintendo      0.00      0.00      0.08         0.00          0.08  \n",
       "14997  Nintendo      0.00      0.00      0.02         0.00          0.02  \n",
       "14999  Nintendo      0.00      0.00      0.02         0.00          0.02  \n",
       "15900  Nintendo      0.00      0.00      0.02         0.00          0.02  \n",
       "\n",
       "[703 rows x 11 columns]"
      ]
     },
     "execution_count": 753,
     "metadata": {},
     "output_type": "execute_result"
    }
   ],
   "source": [
    "Nintendo_Sales = df[df.Publisher == \"Nintendo\"].sort_values(\"Year\", ascending = True)\n",
    "Nintendo_Sales"
   ]
  },
  {
   "cell_type": "markdown",
   "id": "2848a2b3",
   "metadata": {},
   "source": [
    "##### Progress of Nintendo in Different Regions #####"
   ]
  },
  {
   "cell_type": "code",
   "execution_count": null,
   "id": "23c8a112",
   "metadata": {
    "scrolled": true
   },
   "outputs": [],
   "source": [
    "fig, (ax1, ax2, ax3) = plt.subplots(1, 3 ,figsize = (16,5), sharey= True)\n",
    "\n",
    "ax1.set_xlabel(\"Years\")\n",
    "ax1.set_title(\"EU Sales\")\n",
    "\n",
    "ax2.set_xlabel(\"Years\")\n",
    "ax2.set_title(\"NA Sales\")\n",
    "\n",
    "ax3.set_xlabel(\"Years\")   \n",
    "ax3.set_title(\"JP Sales\")\n",
    "\n",
    "ax1.bar(Nintendo_Sales[\"Year\"],Nintendo_Sales[\"EU_Sales\"])\n",
    "ax2.bar(Nintendo_Sales[\"Year\"],Nintendo_Sales[\"NA_Sales\"])\n",
    "ax3.bar(Nintendo_Sales[\"Year\"],Nintendo_Sales[\"JP_Sales\"])\n",
    "\n",
    "plt.style.use(\"seaborn\")\n"
   ]
  },
  {
   "cell_type": "markdown",
   "id": "84566517",
   "metadata": {},
   "source": [
    "**It can be said that the games developed by Nintendo until 1995 are more important in the Japanese market and the US market.**\n",
    "\n",
    "**Conclusions:**\n",
    "\n",
    "- Since Nintendo is a Japanese and US multinational company, it may not be possible to open up to the European market at first.\n",
    "\n",
    "- It can be seen that game sales of Nintendo boomed in 2006. Lets check the reason for it."
   ]
  },
  {
   "cell_type": "code",
   "execution_count": null,
   "id": "d378db6b",
   "metadata": {},
   "outputs": [],
   "source": [
    "df[(df.Publisher == \"Nintendo\") & (df.Year == 2006)].sort_values(by = \"Global_Sales\",ascending = False).head(5)"
   ]
  },
  {
   "cell_type": "markdown",
   "id": "46ca0961",
   "metadata": {},
   "source": [
    "Some of Nintendo's most popular games in 2006, such as Super Mario Bros, Legend of Zelda and Wii Sports, reason of this increase.\n",
    "\n",
    "Also, \"Wii Sports\" which is the best-selling game of Nintendo published in 2006."
   ]
  },
  {
   "cell_type": "markdown",
   "id": "4b48467d",
   "metadata": {},
   "source": [
    "**Global Sales compared to top 20 publishers**"
   ]
  },
  {
   "cell_type": "code",
   "execution_count": null,
   "id": "ec9aa224",
   "metadata": {},
   "outputs": [],
   "source": [
    "plt.figure(figsize = (15,12))\n",
    "Publisher_CumulativeSales = pd.DataFrame()\n",
    "Publisher_CumulativeSales[\"Publisher\"] = Top_Publishers[\"Publishers\"]\n",
    "\n",
    "for index, rows in Top_Publishers.iterrows():\n",
    "    \n",
    "    newRow = df[df.Publisher == rows[\"Publishers\"]].sort_values(\"Year\", ascending = True)\n",
    "    \n",
    "    cumulativeSales = newRow[\"Global_Sales\"].cumsum(skipna=True)\n",
    "    \n",
    "    xnew = np.linspace(newRow[\"Year\"].min(),newRow[\"Year\"].max(), len(cumulativeSales.index))  \n",
    "    \n",
    "    spl = make_interp_spline(xnew,cumulativeSales,k=9)  # type: BSpline\n",
    "    \n",
    "    power_smooth = spl(xnew)\n",
    "\n",
    "    plt.plot(xnew,power_smooth, label = rows[\"Publishers\"],linewidth=2)\n",
    "   \n",
    "\n",
    "plt.legend()   \n",
    "    \n",
    "plt.xlabel(\"Years\",fontsize = 15)\n",
    "plt.ylabel(\"Cumulative Sales (M)\",fontsize = 15)\n",
    "plt.tick_params(axis='x', labelsize=12)\n",
    "plt.tick_params(axis='y', labelsize=12)\n",
    "\n",
    "    \n",
    "    "
   ]
  },
  {
   "cell_type": "markdown",
   "id": "3e1cd936",
   "metadata": {},
   "source": [
    "Progress of Global Sales of Top 20 Publisher year by year.\n",
    "\n",
    "Assumptions: \n",
    "- By looking at the increase rate, it is likely that Sony Computer Entertainment may have passed Activision between 2015-2020\n",
    "- The two companies with the fastest growth over the years are Nintendo and Electronics arts\n",
    "- The company that showed the least increase (almost zero) is Atari company. The decrease in popularity of Atari games with new technological developments may be a reason for this. Lets check if Atari has new games after 95's.\n"
   ]
  },
  {
   "cell_type": "code",
   "execution_count": null,
   "id": "8d4165e3",
   "metadata": {},
   "outputs": [],
   "source": [
    "(df[(df.Publisher == \"Atari\") & (df.Platform == \"2600\")].sort_values(by = \"Year\")[\"Global_Sales\"].mean(),\n",
    "df[(df.Publisher == \"Atari\") & (df.Platform != \"2600\")].sort_values(by = \"Year\")[\"Global_Sales\"].mean())"
   ]
  },
  {
   "cell_type": "markdown",
   "id": "4da83044",
   "metadata": {},
   "source": [
    "There is a noticeable difference between the averages of revenues from the 2600  **( \\$ 0.927M)** platform, where Atari first came out, and the revenues from other platforms **(0.346M)** . It can be said that it is really related to technological developments."
   ]
  },
  {
   "cell_type": "markdown",
   "id": "52d3a2b3",
   "metadata": {},
   "source": [
    "### GENRES ###"
   ]
  },
  {
   "cell_type": "markdown",
   "id": "4c825f2f",
   "metadata": {},
   "source": [
    "It is time to analyse top sold genres and popular regional markets."
   ]
  },
  {
   "cell_type": "code",
   "execution_count": null,
   "id": "9597e148",
   "metadata": {},
   "outputs": [],
   "source": [
    "genres_and_sales = pd.DataFrame(columns = ['Genre', 'EU_Sales','NA_Sales','JP_Sales','Other_Sales','Global_Sales'])\n",
    "genres_and_sales['Genre'] = df.Genre.drop_duplicates().reset_index(drop = True)\n",
    "\n",
    "def sumSales(arr):\n",
    "    return np.sum(arr)\n",
    "\n",
    "for index, rows in genres_and_sales.iterrows():\n",
    "    genres_and_sales.iloc[index][\"EU_Sales\",\"NA_Sales\",\"JP_Sales\",\"Other_Sales\",\"Global_Sales\"] = df[df.Genre == rows.Genre][[\"EU_Sales\",\"NA_Sales\",\"JP_Sales\",\"Other_Sales\",\"Global_Sales\"]].apply(sumSales, result_type='expand') \n",
    "\n"
   ]
  },
  {
   "cell_type": "code",
   "execution_count": null,
   "id": "1f1c0327",
   "metadata": {},
   "outputs": [],
   "source": [
    "genres_and_sales"
   ]
  },
  {
   "cell_type": "markdown",
   "id": "ced75035",
   "metadata": {},
   "source": [
    "There are 12 different genres in the data."
   ]
  },
  {
   "cell_type": "code",
   "execution_count": null,
   "id": "2df055d4",
   "metadata": {},
   "outputs": [],
   "source": [
    "Top_Genres_Global = genres_and_sales.sort_values(by = \"Global_Sales\",ascending = False).reset_index(drop = True)\n",
    "Top_Genres_Global"
   ]
  },
  {
   "cell_type": "markdown",
   "id": "bca9c166",
   "metadata": {},
   "source": [
    "Action games rank first both in the NA market and in the global markets.\n",
    "\n",
    "Time to check if popularity differs in other regions:"
   ]
  },
  {
   "cell_type": "code",
   "execution_count": null,
   "id": "a0dc8111",
   "metadata": {},
   "outputs": [],
   "source": [
    "fig, ([ax1, ax2],[ax3,ax4]) = plt.subplots(2, 2 ,figsize = (16,16))\n",
    "\n",
    "\n",
    "ax1.set_title(\"GLOBAL\",fontweight='bold')\n",
    "ax2.set_title(\"EU REGION\",fontweight='bold')\n",
    "ax3.set_title(\"NA REGION\",fontweight='bold')\n",
    "ax4.set_title(\"JP REGION\",fontweight='bold')\n",
    "\n",
    "explode = (0.1,0.1,0.1,0,0,0,0,0,0,0,0,0)\n",
    "\n",
    "ax1.pie(Top_Genres_Global[\"Global_Sales\"].sort_values(ascending = False),\n",
    "        colors = sns.color_palette('pastel')[0:len(Top_Genres_Global)], \n",
    "        labels = Top_Genres_Global.Genre,startangle=90,autopct='%1.1f%%',explode = explode)\n",
    "\n",
    "ax2.pie(Top_Genres_Global[\"EU_Sales\"].sort_values(ascending = False),\n",
    "        colors = sns.color_palette('pastel')[0:len(Top_Genres_Global)],\n",
    "        labels = Top_Genres_Global.Genre,startangle=90,autopct='%1.1f%%',explode = explode)\n",
    "\n",
    "ax3.pie(Top_Genres_Global[\"NA_Sales\"].sort_values(ascending = False),\n",
    "        colors = sns.color_palette('pastel')[0:len(Top_Genres_Global)],\n",
    "        labels = Top_Genres_Global.Genre,startangle=90,autopct='%1.1f%%',explode = explode)\n",
    "\n",
    "ax4.pie(Top_Genres_Global[\"JP_Sales\"].sort_values(ascending = False),\n",
    "        colors = sns.color_palette('pastel')[0:len(Top_Genres_Global)],\n",
    "        labels = Top_Genres_Global.Genre,startangle=90,autopct='%1.1f%%',explode = explode)\n",
    "\n",
    "\n",
    "clear_output()"
   ]
  },
  {
   "cell_type": "markdown",
   "id": "36d2c925",
   "metadata": {},
   "source": [
    "Action, Sports and Shooter games are in top 3 in all regions while Strategy, Adventure and Puzzle games are in lowest 3.\n",
    "\n",
    "So, it doesn't differ."
   ]
  },
  {
   "cell_type": "markdown",
   "id": "cd9bbbdd",
   "metadata": {},
   "source": [
    "## Prediction Models"
   ]
  },
  {
   "cell_type": "markdown",
   "id": "e3b01501",
   "metadata": {},
   "source": [
    "-----"
   ]
  },
  {
   "cell_type": "markdown",
   "id": "06618e15",
   "metadata": {},
   "source": [
    "### Making a prediction model on Nintendo's (or any other Publisher) cumulative sales."
   ]
  },
  {
   "cell_type": "markdown",
   "id": "bf155a05",
   "metadata": {},
   "source": [
    "#### Initializing variables"
   ]
  },
  {
   "cell_type": "code",
   "execution_count": null,
   "id": "05672ec1",
   "metadata": {},
   "outputs": [],
   "source": [
    "#Optionally: You may change the publisher name for checking other publishers linear regression models\n",
    "publisher_name = \"Nintendo\" \n",
    "\n",
    "games_by_years = df[(df.Publisher ==publisher_name)].sort_values(\"Year\", ascending = True).dropna(subset = [\"Year\"])\n",
    "\n",
    "\n",
    "years = np.array(games_by_years[\"Year\"]).reshape((-1, 1))\n",
    "cumsales = games_by_years[\"Global_Sales\"].cumsum()\n",
    "\n",
    "#STANDARTIZATION between 0 and 1\n",
    "years = (years - years.min()) /  (years.max() - years.min())\n",
    "cumsales = (cumsales - cumsales.min()) /  (cumsales.max() - cumsales.min())\n"
   ]
  },
  {
   "cell_type": "markdown",
   "id": "138cbc07",
   "metadata": {},
   "source": [
    "First to find the best prediction model:"
   ]
  },
  {
   "cell_type": "markdown",
   "id": "5ad07aed",
   "metadata": {},
   "source": [
    "#### Using polynomial fit model "
   ]
  },
  {
   "cell_type": "code",
   "execution_count": null,
   "id": "01a97ce1",
   "metadata": {},
   "outputs": [],
   "source": [
    "years_ = PolynomialFeatures(degree=2, include_bias=False).fit_transform(years)\n",
    "\n",
    "polymodel = LinearRegression().fit(years_, cumsales)"
   ]
  },
  {
   "cell_type": "code",
   "execution_count": null,
   "id": "533be926",
   "metadata": {
    "scrolled": true
   },
   "outputs": [],
   "source": [
    "r_sq = polymodel.score(years_, cumsales)\n",
    "print(r_sq)\n",
    "print(f\"intercept: {polymodel.intercept_}\")\n",
    "print(f\"slope: {polymodel.coef_}\")"
   ]
  },
  {
   "cell_type": "markdown",
   "id": "9b477935",
   "metadata": {},
   "source": [
    "By using polynomial regression in the rank 2 we get 0.973 prediction score which refers to overfitting."
   ]
  },
  {
   "cell_type": "markdown",
   "id": "c6543854",
   "metadata": {},
   "source": [
    "#### Using linear fit model"
   ]
  },
  {
   "cell_type": "code",
   "execution_count": null,
   "id": "a9c93e63",
   "metadata": {
    "scrolled": true
   },
   "outputs": [],
   "source": [
    "linmodel = LinearRegression().fit(years, cumsales)\n",
    "r_sq = linmodel.score(years, cumsales)\n",
    "print(f\"score: {linmodel.score(years,cumsales)}\")\n",
    "print(f\"intercept: {linmodel.intercept_}\")\n",
    "print(f\"slope: {linmodel.coef_}\")\n",
    "print(f\"MSE: {metrics.mean_squared_error(cumsales,linmodel.predict(years),squared = False)}\")"
   ]
  },
  {
   "cell_type": "markdown",
   "id": "f2ad3284",
   "metadata": {},
   "source": [
    "**Decision:** Prediction result of linear model was 0.923 which is less fitted than polynomial one.\n",
    "\n",
    "- Thus, 2nd rank polynomial regression is much better for predictions."
   ]
  },
  {
   "cell_type": "code",
   "execution_count": null,
   "id": "3d9a8e92",
   "metadata": {
    "scrolled": false
   },
   "outputs": [],
   "source": [
    "fig, (ax1, ax2)  = plt.subplots(1, 2 ,figsize = (16,8))\n",
    "\n",
    "fig.suptitle(f\"{publisher_name} Cumulative Sales by Years\", fontsize=16)\n",
    "\n",
    "ax1.set_title(f\"Linear Fit\")\n",
    "\n",
    "ax1.set_xlabel(\"Years\")\n",
    "ax1.set_ylabel(\"Sales\")\n",
    "\n",
    "predict_years = linmodel.predict(years)\n",
    "ax1.plot(years,cumsales,label=\"Cumulative Sales\")\n",
    "ax1.plot(years,predict_years, color=\"blue\", linewidth=2,label=\"Regression\")\n",
    "\n",
    "ax1.legend()\n",
    "\n",
    "plt.title(f\"2nd Rank Polynomial Fit\")\n",
    "\n",
    "ax2.set_xlabel(\"Years\")\n",
    "ax2.set_ylabel(\"Sales\")\n",
    "\n",
    "predict_years_ = polymodel.predict(years_)\n",
    "\n",
    "ax2.plot(years,cumsales,label=\"Cumulative Sales\")\n",
    "ax2.plot(years,predict_years_, color=\"blue\", linewidth=2,label=\"Regression\")\n",
    "ax2.legend()\n",
    "\n",
    "clear_output()"
   ]
  },
  {
   "cell_type": "markdown",
   "id": "a0bff515",
   "metadata": {},
   "source": [
    "#### Finding the top trending and less trending publishers in top 20"
   ]
  },
  {
   "cell_type": "markdown",
   "id": "33c8a0db",
   "metadata": {},
   "source": [
    "By examining the lineer regression line coefficient, and model scores we may obtain some infos like trends and steady growth"
   ]
  },
  {
   "cell_type": "code",
   "execution_count": null,
   "id": "3b8fd298",
   "metadata": {},
   "outputs": [],
   "source": [
    "publishers_and_regression = pd.DataFrame({\"Publishers\" : Top_Publishers[\"Publishers\"]})\n",
    "publishers_and_regression.reset_index(drop = True)\n",
    "coefs =[]\n",
    "scores =[]\n",
    "\n",
    "for index,row in publishers_and_regression.iterrows():\n",
    "    games_by_years = df[df.Publisher == row[\"Publishers\"]].sort_values(\"Year\", ascending = True).dropna(subset = [\"Year\"])\n",
    "    \n",
    "    years = np.array(games_by_years[\"Year\"]).reshape((-1, 1))\n",
    "    \n",
    "    cumsales = games_by_years[\"Global_Sales\"].cumsum()\n",
    "    \n",
    "    standardized_years = (years - years.min()) /  (years.max() - years.min())    \n",
    "    standardized_cumsales = (cumsales - cumsales.min()) /  (cumsales.max() - cumsales.min())\n",
    "    \n",
    "    linmodel = LinearRegression().fit(standardized_years,standardized_cumsales)\n",
    "    score = linmodel.score(standardized_years,standardized_cumsales)\n",
    "    coef = round(float(linmodel.coef_),3)\n",
    "    coefs.append(coef)\n",
    "    scores.append(score)\n",
    "    \n",
    "publishers_and_regression[\"coefficients\"] = coefs\n",
    "publishers_and_regression[\"scores\"] = scores\n"
   ]
  },
  {
   "cell_type": "code",
   "execution_count": null,
   "id": "842e62e0",
   "metadata": {},
   "outputs": [],
   "source": [
    "publishers_and_regression.sort_values(by=\"scores\",ascending = False).reset_index(drop=True)"
   ]
  },
  {
   "cell_type": "markdown",
   "id": "a5f3017e",
   "metadata": {},
   "source": [
    "As the table shows, Sony Computer Entertainment's global sales are increasing most steadily because the predicted model and the real model are quite compatible."
   ]
  },
  {
   "cell_type": "code",
   "execution_count": null,
   "id": "e7e07777",
   "metadata": {},
   "outputs": [],
   "source": [
    "publishers_and_regression.sort_values(by=\"coefficients\",ascending = False).reset_index(drop=True)\n"
   ]
  },
  {
   "cell_type": "markdown",
   "id": "46210dba",
   "metadata": {},
   "source": [
    "It can be assumed that Ubisoft is a company with a very fast growth rate. Yet, this is unclear as it has a lower model score than the others. (This inconsistency is due to the linearity of the initial and final sales data.) Therefore, model should be reinforced with higher order equation models."
   ]
  }
 ],
 "metadata": {
  "kernelspec": {
   "display_name": "Python 3",
   "language": "python",
   "name": "python3"
  },
  "language_info": {
   "codemirror_mode": {
    "name": "ipython",
    "version": 3
   },
   "file_extension": ".py",
   "mimetype": "text/x-python",
   "name": "python",
   "nbconvert_exporter": "python",
   "pygments_lexer": "ipython3",
   "version": "3.8.8"
  }
 },
 "nbformat": 4,
 "nbformat_minor": 5
}
