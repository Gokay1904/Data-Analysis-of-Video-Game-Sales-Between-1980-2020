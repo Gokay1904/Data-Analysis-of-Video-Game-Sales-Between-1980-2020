{
 "cells": [
  {
   "cell_type": "markdown",
   "id": "b2d265c6",
   "metadata": {},
   "source": [
    "### IMPORT LIBRARIES ###"
   ]
  },
  {
   "cell_type": "code",
   "execution_count": 1,
   "id": "cb299b25",
   "metadata": {},
   "outputs": [],
   "source": [
    "from scipy.interpolate import interp1d\n",
    "from IPython.display import clear_output\n",
    "from scipy.interpolate import interp1d\n",
    "import numpy as np\n",
    "import matplotlib.pyplot as plt\n",
    "import pandas as pd\n",
    "import seaborn as sns"
   ]
  },
  {
   "cell_type": "markdown",
   "id": "ac11a384",
   "metadata": {},
   "source": [
    "### CONVERT CSV TO PANDAS DATAFRAME ###"
   ]
  },
  {
   "cell_type": "code",
   "execution_count": 2,
   "id": "69eaaf7a",
   "metadata": {},
   "outputs": [],
   "source": [
    "df = pd.read_csv('vgsales.csv')"
   ]
  },
  {
   "cell_type": "code",
   "execution_count": 3,
   "id": "1f6a22c9",
   "metadata": {},
   "outputs": [
    {
     "data": {
      "text/html": [
       "<div>\n",
       "<style scoped>\n",
       "    .dataframe tbody tr th:only-of-type {\n",
       "        vertical-align: middle;\n",
       "    }\n",
       "\n",
       "    .dataframe tbody tr th {\n",
       "        vertical-align: top;\n",
       "    }\n",
       "\n",
       "    .dataframe thead th {\n",
       "        text-align: right;\n",
       "    }\n",
       "</style>\n",
       "<table border=\"1\" class=\"dataframe\">\n",
       "  <thead>\n",
       "    <tr style=\"text-align: right;\">\n",
       "      <th></th>\n",
       "      <th>Rank</th>\n",
       "      <th>Name</th>\n",
       "      <th>Platform</th>\n",
       "      <th>Year</th>\n",
       "      <th>Genre</th>\n",
       "      <th>Publisher</th>\n",
       "      <th>NA_Sales</th>\n",
       "      <th>EU_Sales</th>\n",
       "      <th>JP_Sales</th>\n",
       "      <th>Other_Sales</th>\n",
       "      <th>Global_Sales</th>\n",
       "    </tr>\n",
       "  </thead>\n",
       "  <tbody>\n",
       "    <tr>\n",
       "      <th>0</th>\n",
       "      <td>1</td>\n",
       "      <td>Wii Sports</td>\n",
       "      <td>Wii</td>\n",
       "      <td>2006.0</td>\n",
       "      <td>Sports</td>\n",
       "      <td>Nintendo</td>\n",
       "      <td>41.49</td>\n",
       "      <td>29.02</td>\n",
       "      <td>3.77</td>\n",
       "      <td>8.46</td>\n",
       "      <td>82.74</td>\n",
       "    </tr>\n",
       "    <tr>\n",
       "      <th>1</th>\n",
       "      <td>2</td>\n",
       "      <td>Super Mario Bros.</td>\n",
       "      <td>NES</td>\n",
       "      <td>1985.0</td>\n",
       "      <td>Platform</td>\n",
       "      <td>Nintendo</td>\n",
       "      <td>29.08</td>\n",
       "      <td>3.58</td>\n",
       "      <td>6.81</td>\n",
       "      <td>0.77</td>\n",
       "      <td>40.24</td>\n",
       "    </tr>\n",
       "    <tr>\n",
       "      <th>2</th>\n",
       "      <td>3</td>\n",
       "      <td>Mario Kart Wii</td>\n",
       "      <td>Wii</td>\n",
       "      <td>2008.0</td>\n",
       "      <td>Racing</td>\n",
       "      <td>Nintendo</td>\n",
       "      <td>15.85</td>\n",
       "      <td>12.88</td>\n",
       "      <td>3.79</td>\n",
       "      <td>3.31</td>\n",
       "      <td>35.82</td>\n",
       "    </tr>\n",
       "    <tr>\n",
       "      <th>3</th>\n",
       "      <td>4</td>\n",
       "      <td>Wii Sports Resort</td>\n",
       "      <td>Wii</td>\n",
       "      <td>2009.0</td>\n",
       "      <td>Sports</td>\n",
       "      <td>Nintendo</td>\n",
       "      <td>15.75</td>\n",
       "      <td>11.01</td>\n",
       "      <td>3.28</td>\n",
       "      <td>2.96</td>\n",
       "      <td>33.00</td>\n",
       "    </tr>\n",
       "    <tr>\n",
       "      <th>4</th>\n",
       "      <td>5</td>\n",
       "      <td>Pokemon Red/Pokemon Blue</td>\n",
       "      <td>GB</td>\n",
       "      <td>1996.0</td>\n",
       "      <td>Role-Playing</td>\n",
       "      <td>Nintendo</td>\n",
       "      <td>11.27</td>\n",
       "      <td>8.89</td>\n",
       "      <td>10.22</td>\n",
       "      <td>1.00</td>\n",
       "      <td>31.37</td>\n",
       "    </tr>\n",
       "  </tbody>\n",
       "</table>\n",
       "</div>"
      ],
      "text/plain": [
       "   Rank                      Name Platform    Year         Genre Publisher  \\\n",
       "0     1                Wii Sports      Wii  2006.0        Sports  Nintendo   \n",
       "1     2         Super Mario Bros.      NES  1985.0      Platform  Nintendo   \n",
       "2     3            Mario Kart Wii      Wii  2008.0        Racing  Nintendo   \n",
       "3     4         Wii Sports Resort      Wii  2009.0        Sports  Nintendo   \n",
       "4     5  Pokemon Red/Pokemon Blue       GB  1996.0  Role-Playing  Nintendo   \n",
       "\n",
       "   NA_Sales  EU_Sales  JP_Sales  Other_Sales  Global_Sales  \n",
       "0     41.49     29.02      3.77         8.46         82.74  \n",
       "1     29.08      3.58      6.81         0.77         40.24  \n",
       "2     15.85     12.88      3.79         3.31         35.82  \n",
       "3     15.75     11.01      3.28         2.96         33.00  \n",
       "4     11.27      8.89     10.22         1.00         31.37  "
      ]
     },
     "execution_count": 3,
     "metadata": {},
     "output_type": "execute_result"
    }
   ],
   "source": [
    "#Raw dataset \n",
    "df.head()"
   ]
  },
  {
   "cell_type": "markdown",
   "id": "95edd0da",
   "metadata": {},
   "source": [
    "### DATA ANALYSIS  PART ###\n",
    "***"
   ]
  },
  {
   "cell_type": "markdown",
   "id": "b5dcf3d7",
   "metadata": {},
   "source": [
    "#### Quick Notes ####\n",
    "- Valid years\n",
    "- Genres\n",
    "- Publishers"
   ]
  },
  {
   "cell_type": "code",
   "execution_count": 4,
   "id": "50d28bfd",
   "metadata": {
    "scrolled": true
   },
   "outputs": [
    {
     "data": {
      "text/plain": [
       "(1980, 2020)"
      ]
     },
     "execution_count": 4,
     "metadata": {},
     "output_type": "execute_result"
    }
   ],
   "source": [
    "int(df[\"Year\"].min()),int(df[\"Year\"].max())"
   ]
  },
  {
   "cell_type": "markdown",
   "id": "10401caf",
   "metadata": {},
   "source": [
    "The data is valid between years 1980-2020"
   ]
  },
  {
   "cell_type": "code",
   "execution_count": 5,
   "id": "509b162a",
   "metadata": {
    "scrolled": true
   },
   "outputs": [
    {
     "data": {
      "text/plain": [
       "0           Sports\n",
       "1         Platform\n",
       "2           Racing\n",
       "3     Role-Playing\n",
       "4           Puzzle\n",
       "5             Misc\n",
       "6          Shooter\n",
       "7       Simulation\n",
       "8           Action\n",
       "9         Fighting\n",
       "10       Adventure\n",
       "11        Strategy\n",
       "Name: Genre, dtype: object"
      ]
     },
     "execution_count": 5,
     "metadata": {},
     "output_type": "execute_result"
    }
   ],
   "source": [
    "(df[\"Genre\"].drop_duplicates().reset_index(drop = True))"
   ]
  },
  {
   "cell_type": "markdown",
   "id": "a062651c",
   "metadata": {},
   "source": [
    "The data contains 12 game genres"
   ]
  },
  {
   "cell_type": "code",
   "execution_count": 6,
   "id": "7c22c6a9",
   "metadata": {
    "scrolled": false
   },
   "outputs": [
    {
     "data": {
      "text/plain": [
       "0                         Nintendo\n",
       "1           Microsoft Game Studios\n",
       "2             Take-Two Interactive\n",
       "3      Sony Computer Entertainment\n",
       "4                       Activision\n",
       "                  ...             \n",
       "574                   Inti Creates\n",
       "575                         Takuyo\n",
       "576             Interchannel-Holon\n",
       "577                     Rain Games\n",
       "578              UIG Entertainment\n",
       "Name: Publisher, Length: 579, dtype: object"
      ]
     },
     "execution_count": 6,
     "metadata": {},
     "output_type": "execute_result"
    }
   ],
   "source": [
    "df[\"Publisher\"].drop_duplicates().reset_index(drop=True)"
   ]
  },
  {
   "cell_type": "markdown",
   "id": "b16118f7",
   "metadata": {},
   "source": [
    "There are 579 different publishers in the dataset"
   ]
  },
  {
   "cell_type": "markdown",
   "id": "db685c26",
   "metadata": {},
   "source": [
    "### Total Regional Sales and Distribution ###\n",
    "Now take general look on the distribution of game sales by regions"
   ]
  },
  {
   "cell_type": "code",
   "execution_count": 7,
   "id": "87b0490a",
   "metadata": {},
   "outputs": [
    {
     "data": {
      "image/png": "[encoded data removed]",
      "text/plain": [
       "<Figure size 432x288 with 1 Axes>"
      ]
     },
     "metadata": {},
     "output_type": "display_data"
    }
   ],
   "source": [
    "continental_sales = df[[\"NA_Sales\",\"EU_Sales\",\"JP_Sales\",\"Other_Sales\"]]\n",
    "plt.pie(continental_sales.sum(), colors = sns.color_palette('pastel')[0:4], \n",
    "        labels = continental_sales.columns,startangle=90,autopct='%1.2f%%')\n",
    "\n",
    "#For displaying only the graphs, not code outputs\n",
    "clear_output(wait=True)"
   ]
  },
  {
   "cell_type": "markdown",
   "id": "1f5b4f9f",
   "metadata": {},
   "source": [
    "### Regional Sales of Each Publishers ###\n",
    "This is how many publisher exists in our data."
   ]
  },
  {
   "cell_type": "code",
   "execution_count": 8,
   "id": "0c16b715",
   "metadata": {},
   "outputs": [],
   "source": [
    "publishers_and_sales = pd.DataFrame(data = {\"Publishers\":df[\"Publisher\"].drop_duplicates().reset_index(drop=True),\n",
    "                                          \"EU_Sales\":np.zeros(579),\"NA_Sales\":np.zeros(579),\"JP_Sales\":np.zeros(579),\n",
    "                                          \"Other_Sales\":np.zeros(579),\n",
    "                                          \"Total_Sales\":np.zeros(579)})\n",
    "\n",
    "for index, rows in publishers_and_sales.iterrows():\n",
    "\n",
    "    if rows[\"Publishers\"] in df[\"Publisher\"].values:\n",
    "           EU_Sales = df[df.Publisher == rows.Publishers][\"EU_Sales\"].sum()\n",
    "           NA_Sales = df[df.Publisher == rows.Publishers][\"NA_Sales\"].sum()\n",
    "           JP_Sales = df[df.Publisher == rows.Publishers][\"JP_Sales\"].sum()\n",
    "           Other_Sales = df[df.Publisher == rows.Publishers][\"JP_Sales\"].sum()\n",
    "           Total_Sales = df[df.Publisher == rows.Publishers][\"Global_Sales\"].sum()\n",
    "           publishers_and_sales.iloc[index,1] = EU_Sales\n",
    "           publishers_and_sales.iloc[index,2] = NA_Sales\n",
    "           publishers_and_sales.iloc[index,3] = JP_Sales\n",
    "           publishers_and_sales.iloc[index,4] = Other_Sales\n",
    "           publishers_and_sales.iloc[index,5] = Total_Sales"
   ]
  },
  {
   "cell_type": "markdown",
   "id": "b6e4cc6a",
   "metadata": {},
   "source": [
    "#### Most Sold 20 Companies ####"
   ]
  },
  {
   "cell_type": "code",
   "execution_count": 9,
   "id": "f21425be",
   "metadata": {},
   "outputs": [],
   "source": [
    "Top_Publishers = publishers_and_sales.sort_values([\"Total_Sales\"],ascending = False).head(20)"
   ]
  },
  {
   "cell_type": "markdown",
   "id": "41c760c5",
   "metadata": {},
   "source": [
    "As shown in the figure, Nintendo is the best-selling publisher in both 3 regions and overall sales. \n",
    "(North America, Europe and Japan)"
   ]
  },
  {
   "cell_type": "code",
   "execution_count": 10,
   "id": "c13ff614",
   "metadata": {},
   "outputs": [
    {
     "data": {
      "image/png": "[encoded data removed]",
      "text/plain": [
       "<Figure size 1152x360 with 1 Axes>"
      ]
     },
     "metadata": {
      "needs_background": "light"
     },
     "output_type": "display_data"
    }
   ],
   "source": [
    "plt.figure(figsize = (16,5))\n",
    "\n",
    "sns.barplot(x = Top_Publishers[\"Publishers\"], \n",
    "        y = Top_Publishers[\"Total_Sales\"])\n",
    "\n",
    "plt.title(\"Top 20 Largest Companies by Video Game Revenues\",fontsize = 30)\n",
    "\n",
    "plt.xlabel(\"Companies\",fontsize = 18)\n",
    "plt.ylabel(\"Sales (M)\",fontsize = 18)\n",
    "\n",
    "plt.tick_params(axis='x', labelsize=15)\n",
    "plt.tick_params(axis='y', labelsize=15)\n",
    "\n",
    "plt.xticks(rotation = 90)\n",
    "\n",
    "plt.style.use(\"seaborn-dark\")"
   ]
  },
  {
   "cell_type": "code",
   "execution_count": 11,
   "id": "a55e2a42",
   "metadata": {},
   "outputs": [],
   "source": [
    "#As shown in the figure, Nintendo has made roughly $1.75 billion profits from game sales over the last 40 years."
   ]
  },
  {
   "cell_type": "markdown",
   "id": "6941445b",
   "metadata": {},
   "source": [
    "#### Progress of Nintendo year by year ####"
   ]
  },
  {
   "cell_type": "code",
   "execution_count": 12,
   "id": "690127f1",
   "metadata": {},
   "outputs": [
    {
     "data": {
      "text/plain": [
       "(Year               1983.0\n",
       " Name    100 Classic Books\n",
       " dtype: object,\n",
       " Year                      2016.0\n",
       " Name    Zero: Tsukihami no Kamen\n",
       " dtype: object)"
      ]
     },
     "execution_count": 12,
     "metadata": {},
     "output_type": "execute_result"
    }
   ],
   "source": [
    "(df[df.Publisher == \"Nintendo\"].sort_values(\"Year\", ascending = True).min()[[\"Year\",\"Name\"]],\n",
    "df[df.Publisher == \"Nintendo\"].sort_values(\"Year\", ascending = True).max()[[\"Year\",\"Name\"]])"
   ]
  },
  {
   "cell_type": "markdown",
   "id": "c20008b3",
   "metadata": {},
   "source": [
    "- The history of the Nintendo company as far as we know dates back to 1983. Also, 100 Classic Books is the first is the first product which has been published.\n",
    "\n",
    "- Zero: Tsukihami no Kamen is the latest game published in 2016."
   ]
  },
  {
   "cell_type": "code",
   "execution_count": 13,
   "id": "9c51f997",
   "metadata": {},
   "outputs": [
    {
     "data": {
      "text/html": [
       "<div>\n",
       "<style scoped>\n",
       "    .dataframe tbody tr th:only-of-type {\n",
       "        vertical-align: middle;\n",
       "    }\n",
       "\n",
       "    .dataframe tbody tr th {\n",
       "        vertical-align: top;\n",
       "    }\n",
       "\n",
       "    .dataframe thead th {\n",
       "        text-align: right;\n",
       "    }\n",
       "</style>\n",
       "<table border=\"1\" class=\"dataframe\">\n",
       "  <thead>\n",
       "    <tr style=\"text-align: right;\">\n",
       "      <th></th>\n",
       "      <th>Rank</th>\n",
       "      <th>Name</th>\n",
       "      <th>Platform</th>\n",
       "      <th>Year</th>\n",
       "      <th>Genre</th>\n",
       "      <th>Publisher</th>\n",
       "      <th>NA_Sales</th>\n",
       "      <th>EU_Sales</th>\n",
       "      <th>JP_Sales</th>\n",
       "      <th>Other_Sales</th>\n",
       "      <th>Global_Sales</th>\n",
       "    </tr>\n",
       "  </thead>\n",
       "  <tbody>\n",
       "    <tr>\n",
       "      <th>1839</th>\n",
       "      <td>1841</td>\n",
       "      <td>Donkey Kong Jr.</td>\n",
       "      <td>NES</td>\n",
       "      <td>1983.0</td>\n",
       "      <td>Platform</td>\n",
       "      <td>Nintendo</td>\n",
       "      <td>0.33</td>\n",
       "      <td>0.07</td>\n",
       "      <td>0.70</td>\n",
       "      <td>0.01</td>\n",
       "      <td>1.11</td>\n",
       "    </tr>\n",
       "    <tr>\n",
       "      <th>763</th>\n",
       "      <td>765</td>\n",
       "      <td>Mahjong</td>\n",
       "      <td>NES</td>\n",
       "      <td>1983.0</td>\n",
       "      <td>Misc</td>\n",
       "      <td>Nintendo</td>\n",
       "      <td>0.01</td>\n",
       "      <td>0.00</td>\n",
       "      <td>2.13</td>\n",
       "      <td>0.00</td>\n",
       "      <td>2.14</td>\n",
       "    </tr>\n",
       "    <tr>\n",
       "      <th>421</th>\n",
       "      <td>422</td>\n",
       "      <td>Baseball</td>\n",
       "      <td>NES</td>\n",
       "      <td>1983.0</td>\n",
       "      <td>Sports</td>\n",
       "      <td>Nintendo</td>\n",
       "      <td>0.73</td>\n",
       "      <td>0.10</td>\n",
       "      <td>2.35</td>\n",
       "      <td>0.02</td>\n",
       "      <td>3.20</td>\n",
       "    </tr>\n",
       "    <tr>\n",
       "      <th>700</th>\n",
       "      <td>702</td>\n",
       "      <td>Mario Bros.</td>\n",
       "      <td>NES</td>\n",
       "      <td>1983.0</td>\n",
       "      <td>Platform</td>\n",
       "      <td>Nintendo</td>\n",
       "      <td>0.51</td>\n",
       "      <td>0.12</td>\n",
       "      <td>1.63</td>\n",
       "      <td>0.02</td>\n",
       "      <td>2.28</td>\n",
       "    </tr>\n",
       "    <tr>\n",
       "      <th>1861</th>\n",
       "      <td>1863</td>\n",
       "      <td>Popeye</td>\n",
       "      <td>NES</td>\n",
       "      <td>1983.0</td>\n",
       "      <td>Platform</td>\n",
       "      <td>Nintendo</td>\n",
       "      <td>0.51</td>\n",
       "      <td>0.12</td>\n",
       "      <td>0.45</td>\n",
       "      <td>0.02</td>\n",
       "      <td>1.10</td>\n",
       "    </tr>\n",
       "    <tr>\n",
       "      <th>...</th>\n",
       "      <td>...</td>\n",
       "      <td>...</td>\n",
       "      <td>...</td>\n",
       "      <td>...</td>\n",
       "      <td>...</td>\n",
       "      <td>...</td>\n",
       "      <td>...</td>\n",
       "      <td>...</td>\n",
       "      <td>...</td>\n",
       "      <td>...</td>\n",
       "      <td>...</td>\n",
       "    </tr>\n",
       "    <tr>\n",
       "      <th>5508</th>\n",
       "      <td>5510</td>\n",
       "      <td>Custom Robo</td>\n",
       "      <td>N64</td>\n",
       "      <td>NaN</td>\n",
       "      <td>Role-Playing</td>\n",
       "      <td>Nintendo</td>\n",
       "      <td>0.00</td>\n",
       "      <td>0.00</td>\n",
       "      <td>0.29</td>\n",
       "      <td>0.04</td>\n",
       "      <td>0.33</td>\n",
       "    </tr>\n",
       "    <tr>\n",
       "      <th>11409</th>\n",
       "      <td>11411</td>\n",
       "      <td>Zero: Tsukihami no Kamen</td>\n",
       "      <td>Wii</td>\n",
       "      <td>NaN</td>\n",
       "      <td>Action</td>\n",
       "      <td>Nintendo</td>\n",
       "      <td>0.00</td>\n",
       "      <td>0.00</td>\n",
       "      <td>0.08</td>\n",
       "      <td>0.00</td>\n",
       "      <td>0.08</td>\n",
       "    </tr>\n",
       "    <tr>\n",
       "      <th>14997</th>\n",
       "      <td>15000</td>\n",
       "      <td>Wii de Asobu: Metroid Prime</td>\n",
       "      <td>Wii</td>\n",
       "      <td>NaN</td>\n",
       "      <td>Shooter</td>\n",
       "      <td>Nintendo</td>\n",
       "      <td>0.00</td>\n",
       "      <td>0.00</td>\n",
       "      <td>0.02</td>\n",
       "      <td>0.00</td>\n",
       "      <td>0.02</td>\n",
       "    </tr>\n",
       "    <tr>\n",
       "      <th>14999</th>\n",
       "      <td>15002</td>\n",
       "      <td>Wii de Asobu: Metroid Prime</td>\n",
       "      <td>Wii</td>\n",
       "      <td>NaN</td>\n",
       "      <td>Shooter</td>\n",
       "      <td>Nintendo</td>\n",
       "      <td>0.00</td>\n",
       "      <td>0.00</td>\n",
       "      <td>0.02</td>\n",
       "      <td>0.00</td>\n",
       "      <td>0.02</td>\n",
       "    </tr>\n",
       "    <tr>\n",
       "      <th>15900</th>\n",
       "      <td>15903</td>\n",
       "      <td>Jet Impulse</td>\n",
       "      <td>DS</td>\n",
       "      <td>NaN</td>\n",
       "      <td>Simulation</td>\n",
       "      <td>Nintendo</td>\n",
       "      <td>0.00</td>\n",
       "      <td>0.00</td>\n",
       "      <td>0.02</td>\n",
       "      <td>0.00</td>\n",
       "      <td>0.02</td>\n",
       "    </tr>\n",
       "  </tbody>\n",
       "</table>\n",
       "<p>703 rows × 11 columns</p>\n",
       "</div>"
      ],
      "text/plain": [
       "        Rank                         Name Platform    Year         Genre  \\\n",
       "1839    1841              Donkey Kong Jr.      NES  1983.0      Platform   \n",
       "763      765                      Mahjong      NES  1983.0          Misc   \n",
       "421      422                     Baseball      NES  1983.0        Sports   \n",
       "700      702                  Mario Bros.      NES  1983.0      Platform   \n",
       "1861    1863                       Popeye      NES  1983.0      Platform   \n",
       "...      ...                          ...      ...     ...           ...   \n",
       "5508    5510                  Custom Robo      N64     NaN  Role-Playing   \n",
       "11409  11411     Zero: Tsukihami no Kamen      Wii     NaN        Action   \n",
       "14997  15000  Wii de Asobu: Metroid Prime      Wii     NaN       Shooter   \n",
       "14999  15002  Wii de Asobu: Metroid Prime      Wii     NaN       Shooter   \n",
       "15900  15903                  Jet Impulse       DS     NaN    Simulation   \n",
       "\n",
       "      Publisher  NA_Sales  EU_Sales  JP_Sales  Other_Sales  Global_Sales  \n",
       "1839   Nintendo      0.33      0.07      0.70         0.01          1.11  \n",
       "763    Nintendo      0.01      0.00      2.13         0.00          2.14  \n",
       "421    Nintendo      0.73      0.10      2.35         0.02          3.20  \n",
       "700    Nintendo      0.51      0.12      1.63         0.02          2.28  \n",
       "1861   Nintendo      0.51      0.12      0.45         0.02          1.10  \n",
       "...         ...       ...       ...       ...          ...           ...  \n",
       "5508   Nintendo      0.00      0.00      0.29         0.04          0.33  \n",
       "11409  Nintendo      0.00      0.00      0.08         0.00          0.08  \n",
       "14997  Nintendo      0.00      0.00      0.02         0.00          0.02  \n",
       "14999  Nintendo      0.00      0.00      0.02         0.00          0.02  \n",
       "15900  Nintendo      0.00      0.00      0.02         0.00          0.02  \n",
       "\n",
       "[703 rows x 11 columns]"
      ]
     },
     "execution_count": 13,
     "metadata": {},
     "output_type": "execute_result"
    }
   ],
   "source": [
    "Nintendo_Sales = df[df.Publisher == \"Nintendo\"].sort_values(\"Year\", ascending = True)\n",
    "\n",
    "Nintendo_Sales"
   ]
  },
  {
   "cell_type": "code",
   "execution_count": 15,
   "id": "2556da90",
   "metadata": {},
   "outputs": [
    {
     "data": {
      "image/png": "[encoded data removed]",
      "text/plain": [
       "<Figure size 1152x360 with 3 Axes>"
      ]
     },
     "metadata": {},
     "output_type": "display_data"
    }
   ],
   "source": [
    "fig, (ax1, ax2, ax3) = plt.subplots(1, 3 ,figsize = (16,5), sharey= True)\n",
    "\n",
    "ax1.set_xlabel(\"Years\")\n",
    "ax1.set_title(\"EU Sales\")\n",
    "\n",
    "ax2.set_xlabel(\"Years\")\n",
    "ax2.set_title(\"NA Sales\")\n",
    "\n",
    "ax3.set_xlabel(\"Years\")   \n",
    "ax3.set_title(\"JP Sales\")\n",
    "\n",
    "ax1.bar(Nintendo_Sales[\"Year\"],Nintendo_Sales[\"EU_Sales\"])\n",
    "\n",
    "ax2.bar(Nintendo_Sales[\"Year\"],Nintendo_Sales[\"NA_Sales\"])\n",
    "ax3.bar(Nintendo_Sales[\"Year\"],Nintendo_Sales[\"JP_Sales\"])\n",
    "\n",
    "plt.style.use(\"seaborn\")\n"
   ]
  },
  {
   "cell_type": "markdown",
   "id": "35f65771",
   "metadata": {},
   "source": [
    "It can be said that the games developed by Nintendo until 1995 are more important in the Japanese market and the US market.\n",
    "\n",
    "Assumption: Since Nintendo is a Japanese and US multinational company, it may not be possible to open up to the European market at first."
   ]
  },
  {
   "cell_type": "code",
   "execution_count": null,
   "id": "9339f92d",
   "metadata": {},
   "outputs": [],
   "source": []
  }
 ],
 "metadata": {
  "kernelspec": {
   "display_name": "Python 3",
   "language": "python",
   "name": "python3"
  },
  "language_info": {
   "codemirror_mode": {
    "name": "ipython",
    "version": 3
   },
   "file_extension": ".py",
   "mimetype": "text/x-python",
   "name": "python",
   "nbconvert_exporter": "python",
   "pygments_lexer": "ipython3",
   "version": "3.8.8"
  }
 },
 "nbformat": 4,
 "nbformat_minor": 5
}
